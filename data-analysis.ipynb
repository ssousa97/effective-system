{
 "cells": [
  {
   "cell_type": "code",
   "execution_count": 3,
   "metadata": {},
   "outputs": [],
   "source": [
    "import pandas as pd\n",
    "import numpy as np\n",
    "import seaborn as sns\n",
    "from sqlalchemy import create_engine, Table, Column, MetaData, Integer, String, ForeignKey, Boolean"
   ]
  },
  {
   "cell_type": "code",
   "execution_count": 4,
   "metadata": {},
   "outputs": [],
   "source": [
    "import os\n",
    "from main import main\n",
    "\n",
    "if not os.path.exists('doencas-existentes/casos_obitos_doencas_preexistentes.csv'):\n",
    "  main()"
   ]
  },
  {
   "cell_type": "code",
   "execution_count": 5,
   "metadata": {},
   "outputs": [
    {
     "data": {
      "text/html": [
       "<div>\n",
       "<style scoped>\n",
       "    .dataframe tbody tr th:only-of-type {\n",
       "        vertical-align: middle;\n",
       "    }\n",
       "\n",
       "    .dataframe tbody tr th {\n",
       "        vertical-align: top;\n",
       "    }\n",
       "\n",
       "    .dataframe thead th {\n",
       "        text-align: right;\n",
       "    }\n",
       "</style>\n",
       "<table border=\"1\" class=\"dataframe\">\n",
       "  <thead>\n",
       "    <tr style=\"text-align: right;\">\n",
       "      <th></th>\n",
       "      <th>nome_munic</th>\n",
       "      <th>codigo_ibge</th>\n",
       "      <th>idade</th>\n",
       "      <th>cs_sexo</th>\n",
       "      <th>diagnostico_covid19</th>\n",
       "      <th>data_inicio_sintomas</th>\n",
       "      <th>obito</th>\n",
       "      <th>asma</th>\n",
       "      <th>cardiopatia</th>\n",
       "      <th>diabetes</th>\n",
       "      <th>doenca_hematologica</th>\n",
       "      <th>doenca_hepatica</th>\n",
       "      <th>doenca_neurologica</th>\n",
       "      <th>doenca_renal</th>\n",
       "      <th>imunodepressao</th>\n",
       "      <th>obesidade</th>\n",
       "      <th>outros_fatores_de_risco</th>\n",
       "      <th>pneumopatia</th>\n",
       "      <th>puerpera</th>\n",
       "      <th>sindrome_de_down</th>\n",
       "    </tr>\n",
       "  </thead>\n",
       "  <tbody>\n",
       "    <tr>\n",
       "      <th>0</th>\n",
       "      <td>Santo André</td>\n",
       "      <td>3547809</td>\n",
       "      <td>78.0</td>\n",
       "      <td>FEMININO</td>\n",
       "      <td>CONFIRMADO</td>\n",
       "      <td>2020-05-11T00:00:00Z</td>\n",
       "      <td>0</td>\n",
       "      <td>IGNORADO</td>\n",
       "      <td>IGNORADO</td>\n",
       "      <td>IGNORADO</td>\n",
       "      <td>IGNORADO</td>\n",
       "      <td>IGNORADO</td>\n",
       "      <td>IGNORADO</td>\n",
       "      <td>IGNORADO</td>\n",
       "      <td>IGNORADO</td>\n",
       "      <td>IGNORADO</td>\n",
       "      <td>IGNORADO</td>\n",
       "      <td>IGNORADO</td>\n",
       "      <td>IGNORADO</td>\n",
       "      <td>IGNORADO</td>\n",
       "    </tr>\n",
       "    <tr>\n",
       "      <th>1</th>\n",
       "      <td>São Paulo</td>\n",
       "      <td>3550308</td>\n",
       "      <td>49.0</td>\n",
       "      <td>FEMININO</td>\n",
       "      <td>CONFIRMADO</td>\n",
       "      <td>2021-03-16T00:00:00Z</td>\n",
       "      <td>0</td>\n",
       "      <td>IGNORADO</td>\n",
       "      <td>IGNORADO</td>\n",
       "      <td>IGNORADO</td>\n",
       "      <td>IGNORADO</td>\n",
       "      <td>IGNORADO</td>\n",
       "      <td>IGNORADO</td>\n",
       "      <td>IGNORADO</td>\n",
       "      <td>IGNORADO</td>\n",
       "      <td>IGNORADO</td>\n",
       "      <td>IGNORADO</td>\n",
       "      <td>IGNORADO</td>\n",
       "      <td>IGNORADO</td>\n",
       "      <td>IGNORADO</td>\n",
       "    </tr>\n",
       "    <tr>\n",
       "      <th>2</th>\n",
       "      <td>São Paulo</td>\n",
       "      <td>3550308</td>\n",
       "      <td>33.0</td>\n",
       "      <td>FEMININO</td>\n",
       "      <td>CONFIRMADO</td>\n",
       "      <td>2021-04-14T00:00:00Z</td>\n",
       "      <td>0</td>\n",
       "      <td>IGNORADO</td>\n",
       "      <td>IGNORADO</td>\n",
       "      <td>IGNORADO</td>\n",
       "      <td>IGNORADO</td>\n",
       "      <td>IGNORADO</td>\n",
       "      <td>IGNORADO</td>\n",
       "      <td>IGNORADO</td>\n",
       "      <td>IGNORADO</td>\n",
       "      <td>IGNORADO</td>\n",
       "      <td>IGNORADO</td>\n",
       "      <td>IGNORADO</td>\n",
       "      <td>IGNORADO</td>\n",
       "      <td>IGNORADO</td>\n",
       "    </tr>\n",
       "    <tr>\n",
       "      <th>4</th>\n",
       "      <td>São Paulo</td>\n",
       "      <td>3550308</td>\n",
       "      <td>46.0</td>\n",
       "      <td>FEMININO</td>\n",
       "      <td>CONFIRMADO</td>\n",
       "      <td>2021-03-24T00:00:00Z</td>\n",
       "      <td>1</td>\n",
       "      <td>NÃO</td>\n",
       "      <td>SIM</td>\n",
       "      <td>SIM</td>\n",
       "      <td>NÃO</td>\n",
       "      <td>NÃO</td>\n",
       "      <td>NÃO</td>\n",
       "      <td>NÃO</td>\n",
       "      <td>NÃO</td>\n",
       "      <td>NÃO</td>\n",
       "      <td>NÃO</td>\n",
       "      <td>NÃO</td>\n",
       "      <td>NÃO</td>\n",
       "      <td>NÃO</td>\n",
       "    </tr>\n",
       "    <tr>\n",
       "      <th>5</th>\n",
       "      <td>São Paulo</td>\n",
       "      <td>3550308</td>\n",
       "      <td>55.0</td>\n",
       "      <td>FEMININO</td>\n",
       "      <td>CONFIRMADO</td>\n",
       "      <td>2021-04-20T00:00:00Z</td>\n",
       "      <td>0</td>\n",
       "      <td>IGNORADO</td>\n",
       "      <td>IGNORADO</td>\n",
       "      <td>IGNORADO</td>\n",
       "      <td>IGNORADO</td>\n",
       "      <td>IGNORADO</td>\n",
       "      <td>IGNORADO</td>\n",
       "      <td>IGNORADO</td>\n",
       "      <td>IGNORADO</td>\n",
       "      <td>IGNORADO</td>\n",
       "      <td>IGNORADO</td>\n",
       "      <td>IGNORADO</td>\n",
       "      <td>IGNORADO</td>\n",
       "      <td>IGNORADO</td>\n",
       "    </tr>\n",
       "  </tbody>\n",
       "</table>\n",
       "</div>"
      ],
      "text/plain": [
       "    nome_munic  codigo_ibge  idade   cs_sexo diagnostico_covid19  \\\n",
       "0  Santo André      3547809   78.0  FEMININO          CONFIRMADO   \n",
       "1    São Paulo      3550308   49.0  FEMININO          CONFIRMADO   \n",
       "2    São Paulo      3550308   33.0  FEMININO          CONFIRMADO   \n",
       "4    São Paulo      3550308   46.0  FEMININO          CONFIRMADO   \n",
       "5    São Paulo      3550308   55.0  FEMININO          CONFIRMADO   \n",
       "\n",
       "   data_inicio_sintomas  obito      asma cardiopatia  diabetes  \\\n",
       "0  2020-05-11T00:00:00Z      0  IGNORADO    IGNORADO  IGNORADO   \n",
       "1  2021-03-16T00:00:00Z      0  IGNORADO    IGNORADO  IGNORADO   \n",
       "2  2021-04-14T00:00:00Z      0  IGNORADO    IGNORADO  IGNORADO   \n",
       "4  2021-03-24T00:00:00Z      1       NÃO         SIM       SIM   \n",
       "5  2021-04-20T00:00:00Z      0  IGNORADO    IGNORADO  IGNORADO   \n",
       "\n",
       "  doenca_hematologica doenca_hepatica doenca_neurologica doenca_renal  \\\n",
       "0            IGNORADO        IGNORADO           IGNORADO     IGNORADO   \n",
       "1            IGNORADO        IGNORADO           IGNORADO     IGNORADO   \n",
       "2            IGNORADO        IGNORADO           IGNORADO     IGNORADO   \n",
       "4                 NÃO             NÃO                NÃO          NÃO   \n",
       "5            IGNORADO        IGNORADO           IGNORADO     IGNORADO   \n",
       "\n",
       "  imunodepressao obesidade outros_fatores_de_risco pneumopatia  puerpera  \\\n",
       "0       IGNORADO  IGNORADO                IGNORADO    IGNORADO  IGNORADO   \n",
       "1       IGNORADO  IGNORADO                IGNORADO    IGNORADO  IGNORADO   \n",
       "2       IGNORADO  IGNORADO                IGNORADO    IGNORADO  IGNORADO   \n",
       "4            NÃO       NÃO                     NÃO         NÃO       NÃO   \n",
       "5       IGNORADO  IGNORADO                IGNORADO    IGNORADO  IGNORADO   \n",
       "\n",
       "  sindrome_de_down  \n",
       "0         IGNORADO  \n",
       "1         IGNORADO  \n",
       "2         IGNORADO  \n",
       "4              NÃO  \n",
       "5         IGNORADO  "
      ]
     },
     "execution_count": 5,
     "metadata": {},
     "output_type": "execute_result"
    }
   ],
   "source": [
    "pre_df = pd.read_csv('doencas-existentes/casos_obitos_doencas_preexistentes.csv', sep=';').dropna()\n",
    "pre_df.head()"
   ]
  },
  {
   "cell_type": "code",
   "execution_count": 69,
   "metadata": {},
   "outputs": [],
   "source": [
    "if os.path.exists('covid.db'):\n",
    "  os.remove('covid.db')"
   ]
  },
  {
   "cell_type": "code",
   "execution_count": 70,
   "metadata": {},
   "outputs": [],
   "source": [
    "engine = create_engine(\"sqlite:///covid.db\")"
   ]
  },
  {
   "cell_type": "code",
   "execution_count": 71,
   "metadata": {},
   "outputs": [],
   "source": [
    "metadata = MetaData(bind=engine)\n",
    "\n",
    "Idade = Table('Idade', metadata,\n",
    "  Column('idade', Integer, primary_key=True),\n",
    ")\n",
    "Sexo = Table('Sexo', metadata,\n",
    "  Column('sexo', String, primary_key=True),\n",
    ")\n",
    "Municipio = Table('Municipio', metadata,\n",
    "  Column('municipio', String, primary_key=True),\n",
    ")\n",
    "\n",
    "Paciente = Table('Paciente', metadata,\n",
    "  Column('idade', Integer, ForeignKey(\"Idade.idade\"), nullable=False),\n",
    "  Column('sexo', String, ForeignKey(\"Sexo.sexo\"), nullable=False),\n",
    "  Column('municipio', String, ForeignKey(\"Municipio.municipio\"), nullable=False),\n",
    "  Column('asma', String, nullable=False),\n",
    "  Column('obito', Boolean, nullable=False),\n",
    ")\n",
    "metadata.create_all(engine)"
   ]
  },
  {
   "cell_type": "code",
   "execution_count": 72,
   "metadata": {},
   "outputs": [],
   "source": [
    "idade_list = pre_df.idade.dropna().unique()\n",
    "sexo_list = pre_df.cs_sexo.dropna().unique()\n",
    "municipio_list = pre_df.nome_munic.dropna().unique()"
   ]
  },
  {
   "cell_type": "code",
   "execution_count": 73,
   "metadata": {},
   "outputs": [],
   "source": [
    "idade_dict = [\n",
    "  {\"idade\": int(idade)}\n",
    "  for idade in idade_list\n",
    "]\n",
    "\n",
    "sexo_dict = [\n",
    "  {\"sexo\": sexo}\n",
    "  for sexo in sexo_list\n",
    "]\n",
    "\n",
    "municipio_dict = [\n",
    "  {\"municipio\": m}\n",
    "  for m in municipio_list\n",
    "]"
   ]
  },
  {
   "cell_type": "code",
   "execution_count": 74,
   "metadata": {},
   "outputs": [
    {
     "data": {
      "text/plain": [
       "<sqlalchemy.engine.cursor.LegacyCursorResult at 0x7fb28ffa9e50>"
      ]
     },
     "execution_count": 74,
     "metadata": {},
     "output_type": "execute_result"
    }
   ],
   "source": [
    "engine.execute(Idade.insert().values(idade_dict))\n",
    "engine.execute(Sexo.insert().values(sexo_dict))\n",
    "engine.execute(Municipio.insert().values(municipio_dict))"
   ]
  },
  {
   "cell_type": "code",
   "execution_count": 75,
   "metadata": {},
   "outputs": [
    {
     "data": {
      "text/html": [
       "<div>\n",
       "<style scoped>\n",
       "    .dataframe tbody tr th:only-of-type {\n",
       "        vertical-align: middle;\n",
       "    }\n",
       "\n",
       "    .dataframe tbody tr th {\n",
       "        vertical-align: top;\n",
       "    }\n",
       "\n",
       "    .dataframe thead th {\n",
       "        text-align: right;\n",
       "    }\n",
       "</style>\n",
       "<table border=\"1\" class=\"dataframe\">\n",
       "  <thead>\n",
       "    <tr style=\"text-align: right;\">\n",
       "      <th></th>\n",
       "      <th>municipio</th>\n",
       "    </tr>\n",
       "  </thead>\n",
       "  <tbody>\n",
       "    <tr>\n",
       "      <th>0</th>\n",
       "      <td>Santo André</td>\n",
       "    </tr>\n",
       "    <tr>\n",
       "      <th>1</th>\n",
       "      <td>São Paulo</td>\n",
       "    </tr>\n",
       "    <tr>\n",
       "      <th>2</th>\n",
       "      <td>Araçoiaba da Serra</td>\n",
       "    </tr>\n",
       "    <tr>\n",
       "      <th>3</th>\n",
       "      <td>Cajamar</td>\n",
       "    </tr>\n",
       "    <tr>\n",
       "      <th>4</th>\n",
       "      <td>Santos</td>\n",
       "    </tr>\n",
       "    <tr>\n",
       "      <th>...</th>\n",
       "      <td>...</td>\n",
       "    </tr>\n",
       "    <tr>\n",
       "      <th>641</th>\n",
       "      <td>Santa Salete</td>\n",
       "    </tr>\n",
       "    <tr>\n",
       "      <th>642</th>\n",
       "      <td>Não Informado</td>\n",
       "    </tr>\n",
       "    <tr>\n",
       "      <th>643</th>\n",
       "      <td>Pracinha</td>\n",
       "    </tr>\n",
       "    <tr>\n",
       "      <th>644</th>\n",
       "      <td>Santana da Ponte Pensa</td>\n",
       "    </tr>\n",
       "    <tr>\n",
       "      <th>645</th>\n",
       "      <td>Marabá Paulista</td>\n",
       "    </tr>\n",
       "  </tbody>\n",
       "</table>\n",
       "<p>646 rows × 1 columns</p>\n",
       "</div>"
      ],
      "text/plain": [
       "                  municipio\n",
       "0               Santo André\n",
       "1                 São Paulo\n",
       "2        Araçoiaba da Serra\n",
       "3                   Cajamar\n",
       "4                    Santos\n",
       "..                      ...\n",
       "641            Santa Salete\n",
       "642           Não Informado\n",
       "643                Pracinha\n",
       "644  Santana da Ponte Pensa\n",
       "645         Marabá Paulista\n",
       "\n",
       "[646 rows x 1 columns]"
      ]
     },
     "execution_count": 75,
     "metadata": {},
     "output_type": "execute_result"
    }
   ],
   "source": [
    "pd.read_sql(\n",
    "  \"\"\"\n",
    "  SELECT municipio FROM Municipio\n",
    "  \"\"\",\n",
    "  engine\n",
    ")"
   ]
  },
  {
   "cell_type": "code",
   "execution_count": 76,
   "metadata": {},
   "outputs": [
    {
     "data": {
      "text/html": [
       "<div>\n",
       "<style scoped>\n",
       "    .dataframe tbody tr th:only-of-type {\n",
       "        vertical-align: middle;\n",
       "    }\n",
       "\n",
       "    .dataframe tbody tr th {\n",
       "        vertical-align: top;\n",
       "    }\n",
       "\n",
       "    .dataframe thead th {\n",
       "        text-align: right;\n",
       "    }\n",
       "</style>\n",
       "<table border=\"1\" class=\"dataframe\">\n",
       "  <thead>\n",
       "    <tr style=\"text-align: right;\">\n",
       "      <th></th>\n",
       "      <th>nome_munic</th>\n",
       "      <th>codigo_ibge</th>\n",
       "      <th>idade</th>\n",
       "      <th>cs_sexo</th>\n",
       "      <th>diagnostico_covid19</th>\n",
       "      <th>data_inicio_sintomas</th>\n",
       "      <th>obito</th>\n",
       "      <th>asma</th>\n",
       "      <th>cardiopatia</th>\n",
       "      <th>diabetes</th>\n",
       "      <th>doenca_hematologica</th>\n",
       "      <th>doenca_hepatica</th>\n",
       "      <th>doenca_neurologica</th>\n",
       "      <th>doenca_renal</th>\n",
       "      <th>imunodepressao</th>\n",
       "      <th>obesidade</th>\n",
       "      <th>outros_fatores_de_risco</th>\n",
       "      <th>pneumopatia</th>\n",
       "      <th>puerpera</th>\n",
       "      <th>sindrome_de_down</th>\n",
       "    </tr>\n",
       "  </thead>\n",
       "  <tbody>\n",
       "    <tr>\n",
       "      <th>0</th>\n",
       "      <td>Santo André</td>\n",
       "      <td>3547809</td>\n",
       "      <td>78</td>\n",
       "      <td>FEMININO</td>\n",
       "      <td>CONFIRMADO</td>\n",
       "      <td>2020-05-11T00:00:00Z</td>\n",
       "      <td>0</td>\n",
       "      <td>IGNORADO</td>\n",
       "      <td>IGNORADO</td>\n",
       "      <td>IGNORADO</td>\n",
       "      <td>IGNORADO</td>\n",
       "      <td>IGNORADO</td>\n",
       "      <td>IGNORADO</td>\n",
       "      <td>IGNORADO</td>\n",
       "      <td>IGNORADO</td>\n",
       "      <td>IGNORADO</td>\n",
       "      <td>IGNORADO</td>\n",
       "      <td>IGNORADO</td>\n",
       "      <td>IGNORADO</td>\n",
       "      <td>IGNORADO</td>\n",
       "    </tr>\n",
       "    <tr>\n",
       "      <th>1</th>\n",
       "      <td>São Paulo</td>\n",
       "      <td>3550308</td>\n",
       "      <td>49</td>\n",
       "      <td>FEMININO</td>\n",
       "      <td>CONFIRMADO</td>\n",
       "      <td>2021-03-16T00:00:00Z</td>\n",
       "      <td>0</td>\n",
       "      <td>IGNORADO</td>\n",
       "      <td>IGNORADO</td>\n",
       "      <td>IGNORADO</td>\n",
       "      <td>IGNORADO</td>\n",
       "      <td>IGNORADO</td>\n",
       "      <td>IGNORADO</td>\n",
       "      <td>IGNORADO</td>\n",
       "      <td>IGNORADO</td>\n",
       "      <td>IGNORADO</td>\n",
       "      <td>IGNORADO</td>\n",
       "      <td>IGNORADO</td>\n",
       "      <td>IGNORADO</td>\n",
       "      <td>IGNORADO</td>\n",
       "    </tr>\n",
       "    <tr>\n",
       "      <th>2</th>\n",
       "      <td>São Paulo</td>\n",
       "      <td>3550308</td>\n",
       "      <td>33</td>\n",
       "      <td>FEMININO</td>\n",
       "      <td>CONFIRMADO</td>\n",
       "      <td>2021-04-14T00:00:00Z</td>\n",
       "      <td>0</td>\n",
       "      <td>IGNORADO</td>\n",
       "      <td>IGNORADO</td>\n",
       "      <td>IGNORADO</td>\n",
       "      <td>IGNORADO</td>\n",
       "      <td>IGNORADO</td>\n",
       "      <td>IGNORADO</td>\n",
       "      <td>IGNORADO</td>\n",
       "      <td>IGNORADO</td>\n",
       "      <td>IGNORADO</td>\n",
       "      <td>IGNORADO</td>\n",
       "      <td>IGNORADO</td>\n",
       "      <td>IGNORADO</td>\n",
       "      <td>IGNORADO</td>\n",
       "    </tr>\n",
       "    <tr>\n",
       "      <th>4</th>\n",
       "      <td>São Paulo</td>\n",
       "      <td>3550308</td>\n",
       "      <td>46</td>\n",
       "      <td>FEMININO</td>\n",
       "      <td>CONFIRMADO</td>\n",
       "      <td>2021-03-24T00:00:00Z</td>\n",
       "      <td>1</td>\n",
       "      <td>NÃO</td>\n",
       "      <td>SIM</td>\n",
       "      <td>SIM</td>\n",
       "      <td>NÃO</td>\n",
       "      <td>NÃO</td>\n",
       "      <td>NÃO</td>\n",
       "      <td>NÃO</td>\n",
       "      <td>NÃO</td>\n",
       "      <td>NÃO</td>\n",
       "      <td>NÃO</td>\n",
       "      <td>NÃO</td>\n",
       "      <td>NÃO</td>\n",
       "      <td>NÃO</td>\n",
       "    </tr>\n",
       "    <tr>\n",
       "      <th>5</th>\n",
       "      <td>São Paulo</td>\n",
       "      <td>3550308</td>\n",
       "      <td>55</td>\n",
       "      <td>FEMININO</td>\n",
       "      <td>CONFIRMADO</td>\n",
       "      <td>2021-04-20T00:00:00Z</td>\n",
       "      <td>0</td>\n",
       "      <td>IGNORADO</td>\n",
       "      <td>IGNORADO</td>\n",
       "      <td>IGNORADO</td>\n",
       "      <td>IGNORADO</td>\n",
       "      <td>IGNORADO</td>\n",
       "      <td>IGNORADO</td>\n",
       "      <td>IGNORADO</td>\n",
       "      <td>IGNORADO</td>\n",
       "      <td>IGNORADO</td>\n",
       "      <td>IGNORADO</td>\n",
       "      <td>IGNORADO</td>\n",
       "      <td>IGNORADO</td>\n",
       "      <td>IGNORADO</td>\n",
       "    </tr>\n",
       "  </tbody>\n",
       "</table>\n",
       "</div>"
      ],
      "text/plain": [
       "    nome_munic  codigo_ibge  idade   cs_sexo diagnostico_covid19  \\\n",
       "0  Santo André      3547809     78  FEMININO          CONFIRMADO   \n",
       "1    São Paulo      3550308     49  FEMININO          CONFIRMADO   \n",
       "2    São Paulo      3550308     33  FEMININO          CONFIRMADO   \n",
       "4    São Paulo      3550308     46  FEMININO          CONFIRMADO   \n",
       "5    São Paulo      3550308     55  FEMININO          CONFIRMADO   \n",
       "\n",
       "   data_inicio_sintomas  obito      asma cardiopatia  diabetes  \\\n",
       "0  2020-05-11T00:00:00Z      0  IGNORADO    IGNORADO  IGNORADO   \n",
       "1  2021-03-16T00:00:00Z      0  IGNORADO    IGNORADO  IGNORADO   \n",
       "2  2021-04-14T00:00:00Z      0  IGNORADO    IGNORADO  IGNORADO   \n",
       "4  2021-03-24T00:00:00Z      1       NÃO         SIM       SIM   \n",
       "5  2021-04-20T00:00:00Z      0  IGNORADO    IGNORADO  IGNORADO   \n",
       "\n",
       "  doenca_hematologica doenca_hepatica doenca_neurologica doenca_renal  \\\n",
       "0            IGNORADO        IGNORADO           IGNORADO     IGNORADO   \n",
       "1            IGNORADO        IGNORADO           IGNORADO     IGNORADO   \n",
       "2            IGNORADO        IGNORADO           IGNORADO     IGNORADO   \n",
       "4                 NÃO             NÃO                NÃO          NÃO   \n",
       "5            IGNORADO        IGNORADO           IGNORADO     IGNORADO   \n",
       "\n",
       "  imunodepressao obesidade outros_fatores_de_risco pneumopatia  puerpera  \\\n",
       "0       IGNORADO  IGNORADO                IGNORADO    IGNORADO  IGNORADO   \n",
       "1       IGNORADO  IGNORADO                IGNORADO    IGNORADO  IGNORADO   \n",
       "2       IGNORADO  IGNORADO                IGNORADO    IGNORADO  IGNORADO   \n",
       "4            NÃO       NÃO                     NÃO         NÃO       NÃO   \n",
       "5       IGNORADO  IGNORADO                IGNORADO    IGNORADO  IGNORADO   \n",
       "\n",
       "  sindrome_de_down  \n",
       "0         IGNORADO  \n",
       "1         IGNORADO  \n",
       "2         IGNORADO  \n",
       "4              NÃO  \n",
       "5         IGNORADO  "
      ]
     },
     "execution_count": 76,
     "metadata": {},
     "output_type": "execute_result"
    }
   ],
   "source": [
    "pre_df.idade = pre_df.idade.apply(lambda x: int(x))\n",
    "pre_df.head()"
   ]
  },
  {
   "cell_type": "code",
   "execution_count": 77,
   "metadata": {},
   "outputs": [
    {
     "data": {
      "text/plain": [
       "[{'idade': 46,\n",
       "  'sexo': 'FEMININO',\n",
       "  'municipio': 'São Paulo',\n",
       "  'obito': 1,\n",
       "  'asma': 'NÃO'}]"
      ]
     },
     "execution_count": 77,
     "metadata": {},
     "output_type": "execute_result"
    }
   ],
   "source": [
    "renamed_df = pre_df[['idade', 'cs_sexo', 'nome_munic', 'obito', 'asma']].rename(columns={'cs_sexo':'sexo', 'nome_munic':'municipio'})\n",
    "filtered_df = renamed_df[renamed_df.asma != 'IGNORADO']\n",
    "paciente_dict = filtered_df.to_dict(orient='records')\n",
    "paciente_dict[:1]"
   ]
  },
  {
   "cell_type": "code",
   "execution_count": 78,
   "metadata": {},
   "outputs": [
    {
     "name": "stderr",
     "output_type": "stream",
     "text": [
      "100%|██████████| 4/4 [00:19<00:00,  4.77s/it]\n"
     ]
    }
   ],
   "source": [
    "from tqdm import tqdm\n",
    "\n",
    "cursor = 0\n",
    "batch_size = 50000\n",
    "\n",
    "for i in tqdm(range(batch_size, len(paciente_dict)+batch_size, batch_size)):\n",
    "  if i > len(paciente_dict):\n",
    "    engine.execute(Paciente.insert().values(paciente_dict[cursor:]))\n",
    "  else:\n",
    "    engine.execute(Paciente.insert().values(paciente_dict[cursor:i]))\n",
    "    cursor = i"
   ]
  },
  {
   "cell_type": "code",
   "execution_count": 81,
   "metadata": {},
   "outputs": [],
   "source": [
    "paciente_df = pd.read_sql(\n",
    "  \"\"\"\n",
    "  SELECT * FROM Paciente\n",
    "  \"\"\",\n",
    "  engine\n",
    ")"
   ]
  },
  {
   "cell_type": "markdown",
   "metadata": {},
   "source": [
    "## Questão 5\n",
    "\n",
    "1. Qual a porcentagem de pessoas que pegaram covid e tem asma?\n",
    "2. Qual a proporção de casos pra cada sexo?\n",
    "3. Qual a relação entre idade e óbito?\n",
    "4. Quais municípios tiveram mais casos?\n",
    "5. Quão relacionada está a asma com o óbito?"
   ]
  },
  {
   "cell_type": "markdown",
   "metadata": {},
   "source": [
    "### Pergunta 1"
   ]
  },
  {
   "cell_type": "code",
   "execution_count": 91,
   "metadata": {},
   "outputs": [
    {
     "data": {
      "text/html": [
       "<div>\n",
       "<style scoped>\n",
       "    .dataframe tbody tr th:only-of-type {\n",
       "        vertical-align: middle;\n",
       "    }\n",
       "\n",
       "    .dataframe tbody tr th {\n",
       "        vertical-align: top;\n",
       "    }\n",
       "\n",
       "    .dataframe thead th {\n",
       "        text-align: right;\n",
       "    }\n",
       "</style>\n",
       "<table border=\"1\" class=\"dataframe\">\n",
       "  <thead>\n",
       "    <tr style=\"text-align: right;\">\n",
       "      <th></th>\n",
       "      <th>asma</th>\n",
       "      <th>quantidade</th>\n",
       "    </tr>\n",
       "  </thead>\n",
       "  <tbody>\n",
       "    <tr>\n",
       "      <th>0</th>\n",
       "      <td>NÃO</td>\n",
       "      <td>178599</td>\n",
       "    </tr>\n",
       "    <tr>\n",
       "      <th>1</th>\n",
       "      <td>SIM</td>\n",
       "      <td>13355</td>\n",
       "    </tr>\n",
       "  </tbody>\n",
       "</table>\n",
       "</div>"
      ],
      "text/plain": [
       "  asma  quantidade\n",
       "0  NÃO      178599\n",
       "1  SIM       13355"
      ]
     },
     "execution_count": 91,
     "metadata": {},
     "output_type": "execute_result"
    }
   ],
   "source": [
    "df = pd.read_sql(\n",
    "  \"\"\"\n",
    "  SELECT asma, count(asma) as quantidade\n",
    "  FROM Paciente\n",
    "  GROUP BY asma\n",
    "  \"\"\",\n",
    "  engine\n",
    ")\n",
    "df.head()"
   ]
  },
  {
   "cell_type": "code",
   "execution_count": 94,
   "metadata": {},
   "outputs": [
    {
     "data": {
      "text/html": [
       "<div>\n",
       "<style scoped>\n",
       "    .dataframe tbody tr th:only-of-type {\n",
       "        vertical-align: middle;\n",
       "    }\n",
       "\n",
       "    .dataframe tbody tr th {\n",
       "        vertical-align: top;\n",
       "    }\n",
       "\n",
       "    .dataframe thead th {\n",
       "        text-align: right;\n",
       "    }\n",
       "</style>\n",
       "<table border=\"1\" class=\"dataframe\">\n",
       "  <thead>\n",
       "    <tr style=\"text-align: right;\">\n",
       "      <th></th>\n",
       "      <th>asma</th>\n",
       "      <th>quantidade</th>\n",
       "      <th>porcentagem</th>\n",
       "    </tr>\n",
       "  </thead>\n",
       "  <tbody>\n",
       "    <tr>\n",
       "      <th>0</th>\n",
       "      <td>NÃO</td>\n",
       "      <td>178599</td>\n",
       "      <td>93.04</td>\n",
       "    </tr>\n",
       "    <tr>\n",
       "      <th>1</th>\n",
       "      <td>SIM</td>\n",
       "      <td>13355</td>\n",
       "      <td>6.96</td>\n",
       "    </tr>\n",
       "  </tbody>\n",
       "</table>\n",
       "</div>"
      ],
      "text/plain": [
       "  asma  quantidade  porcentagem\n",
       "0  NÃO      178599        93.04\n",
       "1  SIM       13355         6.96"
      ]
     },
     "execution_count": 94,
     "metadata": {},
     "output_type": "execute_result"
    }
   ],
   "source": [
    "df['porcentagem'] = np.round(df['quantidade']*100/df.quantidade.sum(), decimals=2)\n",
    "df.head()"
   ]
  },
  {
   "cell_type": "code",
   "execution_count": 95,
   "metadata": {},
   "outputs": [
    {
     "data": {
      "text/plain": [
       "<AxesSubplot:xlabel='asma', ylabel='porcentagem'>"
      ]
     },
     "execution_count": 95,
     "metadata": {},
     "output_type": "execute_result"
    },
    {
     "data": {
      "image/png": "[encoded data removed]",
      "text/plain": [
       "<Figure size 432x288 with 1 Axes>"
      ]
     },
     "metadata": {
      "needs_background": "light"
     },
     "output_type": "display_data"
    }
   ],
   "source": [
    "sns.barplot(x=df.asma, y=df.porcentagem)"
   ]
  },
  {
   "cell_type": "markdown",
   "metadata": {},
   "source": [
    "### Pergunta 2"
   ]
  },
  {
   "cell_type": "code",
   "execution_count": 99,
   "metadata": {},
   "outputs": [
    {
     "data": {
      "text/html": [
       "<div>\n",
       "<style scoped>\n",
       "    .dataframe tbody tr th:only-of-type {\n",
       "        vertical-align: middle;\n",
       "    }\n",
       "\n",
       "    .dataframe tbody tr th {\n",
       "        vertical-align: top;\n",
       "    }\n",
       "\n",
       "    .dataframe thead th {\n",
       "        text-align: right;\n",
       "    }\n",
       "</style>\n",
       "<table border=\"1\" class=\"dataframe\">\n",
       "  <thead>\n",
       "    <tr style=\"text-align: right;\">\n",
       "      <th></th>\n",
       "      <th>sexo</th>\n",
       "      <th>quantidade</th>\n",
       "    </tr>\n",
       "  </thead>\n",
       "  <tbody>\n",
       "    <tr>\n",
       "      <th>0</th>\n",
       "      <td>FEMININO</td>\n",
       "      <td>90834</td>\n",
       "    </tr>\n",
       "    <tr>\n",
       "      <th>1</th>\n",
       "      <td>MASCULINO</td>\n",
       "      <td>101115</td>\n",
       "    </tr>\n",
       "  </tbody>\n",
       "</table>\n",
       "</div>"
      ],
      "text/plain": [
       "        sexo  quantidade\n",
       "0   FEMININO       90834\n",
       "1  MASCULINO      101115"
      ]
     },
     "execution_count": 99,
     "metadata": {},
     "output_type": "execute_result"
    }
   ],
   "source": [
    "df = pd.read_sql(\n",
    "  \"\"\"\n",
    "  SELECT sexo, count(sexo) as quantidade\n",
    "  FROM Paciente\n",
    "  WHERE sexo != 'IGNORADO'\n",
    "  GROUP BY sexo\n",
    "  \"\"\",\n",
    "  engine\n",
    ")\n",
    "df.head()"
   ]
  },
  {
   "cell_type": "code",
   "execution_count": 100,
   "metadata": {},
   "outputs": [
    {
     "data": {
      "text/html": [
       "<div>\n",
       "<style scoped>\n",
       "    .dataframe tbody tr th:only-of-type {\n",
       "        vertical-align: middle;\n",
       "    }\n",
       "\n",
       "    .dataframe tbody tr th {\n",
       "        vertical-align: top;\n",
       "    }\n",
       "\n",
       "    .dataframe thead th {\n",
       "        text-align: right;\n",
       "    }\n",
       "</style>\n",
       "<table border=\"1\" class=\"dataframe\">\n",
       "  <thead>\n",
       "    <tr style=\"text-align: right;\">\n",
       "      <th></th>\n",
       "      <th>sexo</th>\n",
       "      <th>quantidade</th>\n",
       "      <th>porcentagem</th>\n",
       "    </tr>\n",
       "  </thead>\n",
       "  <tbody>\n",
       "    <tr>\n",
       "      <th>0</th>\n",
       "      <td>FEMININO</td>\n",
       "      <td>90834</td>\n",
       "      <td>47.32</td>\n",
       "    </tr>\n",
       "    <tr>\n",
       "      <th>1</th>\n",
       "      <td>MASCULINO</td>\n",
       "      <td>101115</td>\n",
       "      <td>52.68</td>\n",
       "    </tr>\n",
       "  </tbody>\n",
       "</table>\n",
       "</div>"
      ],
      "text/plain": [
       "        sexo  quantidade  porcentagem\n",
       "0   FEMININO       90834        47.32\n",
       "1  MASCULINO      101115        52.68"
      ]
     },
     "execution_count": 100,
     "metadata": {},
     "output_type": "execute_result"
    }
   ],
   "source": [
    "df['porcentagem'] = np.round(df['quantidade']*100/df.quantidade.sum(), decimals=2)\n",
    "df.head()"
   ]
  },
  {
   "cell_type": "code",
   "execution_count": 103,
   "metadata": {},
   "outputs": [
    {
     "data": {
      "text/plain": [
       "([<matplotlib.patches.Wedge at 0x7fb297f4e310>,\n",
       "  <matplotlib.patches.Wedge at 0x7fb297f4e820>],\n",
       " [Text(0.09250479334876448, 1.096103491102689, 'FEMININO'),\n",
       "  Text(-0.09250489597337944, -1.0961034824417604, 'MASCULINO')])"
      ]
     },
     "execution_count": 103,
     "metadata": {},
     "output_type": "execute_result"
    },
    {
     "data": {
      "image/png": "[encoded data removed]",
      "text/plain": [
       "<Figure size 432x288 with 1 Axes>"
      ]
     },
     "metadata": {},
     "output_type": "display_data"
    }
   ],
   "source": [
    "from matplotlib import pyplot as plt\n",
    "\n",
    "plt.pie(x=df.porcentagem, labels=df.sexo)"
   ]
  },
  {
   "cell_type": "markdown",
   "metadata": {},
   "source": [
    "### Pergunta 3"
   ]
  },
  {
   "cell_type": "code",
   "execution_count": 119,
   "metadata": {},
   "outputs": [
    {
     "data": {
      "text/html": [
       "<div>\n",
       "<style scoped>\n",
       "    .dataframe tbody tr th:only-of-type {\n",
       "        vertical-align: middle;\n",
       "    }\n",
       "\n",
       "    .dataframe tbody tr th {\n",
       "        vertical-align: top;\n",
       "    }\n",
       "\n",
       "    .dataframe thead th {\n",
       "        text-align: right;\n",
       "    }\n",
       "</style>\n",
       "<table border=\"1\" class=\"dataframe\">\n",
       "  <thead>\n",
       "    <tr style=\"text-align: right;\">\n",
       "      <th></th>\n",
       "      <th>idade</th>\n",
       "      <th>morreu</th>\n",
       "      <th>sobreviveu</th>\n",
       "      <th>porcentagem_morte</th>\n",
       "    </tr>\n",
       "  </thead>\n",
       "  <tbody>\n",
       "    <tr>\n",
       "      <th>0</th>\n",
       "      <td>66</td>\n",
       "      <td>1875</td>\n",
       "      <td>2788</td>\n",
       "      <td>40.21</td>\n",
       "    </tr>\n",
       "    <tr>\n",
       "      <th>1</th>\n",
       "      <td>67</td>\n",
       "      <td>1857</td>\n",
       "      <td>2728</td>\n",
       "      <td>40.50</td>\n",
       "    </tr>\n",
       "    <tr>\n",
       "      <th>2</th>\n",
       "      <td>68</td>\n",
       "      <td>1856</td>\n",
       "      <td>2552</td>\n",
       "      <td>42.11</td>\n",
       "    </tr>\n",
       "    <tr>\n",
       "      <th>3</th>\n",
       "      <td>72</td>\n",
       "      <td>1852</td>\n",
       "      <td>2250</td>\n",
       "      <td>45.15</td>\n",
       "    </tr>\n",
       "    <tr>\n",
       "      <th>4</th>\n",
       "      <td>70</td>\n",
       "      <td>1842</td>\n",
       "      <td>2420</td>\n",
       "      <td>43.22</td>\n",
       "    </tr>\n",
       "  </tbody>\n",
       "</table>\n",
       "</div>"
      ],
      "text/plain": [
       "   idade  morreu  sobreviveu  porcentagem_morte\n",
       "0     66    1875        2788              40.21\n",
       "1     67    1857        2728              40.50\n",
       "2     68    1856        2552              42.11\n",
       "3     72    1852        2250              45.15\n",
       "4     70    1842        2420              43.22"
      ]
     },
     "execution_count": 119,
     "metadata": {},
     "output_type": "execute_result"
    }
   ],
   "source": [
    "obito_df = pd.read_sql(\n",
    "  \"\"\"\n",
    "  SELECT idade, count(obito) as morreu\n",
    "  FROM Paciente\n",
    "  WHERE obito=1\n",
    "  GROUP BY idade\n",
    "  ORDER BY morreu DESC\n",
    "  \"\"\",\n",
    "  engine\n",
    ")\n",
    "\n",
    "not_obito_df = pd.read_sql(\n",
    "  \"\"\"\n",
    "  SELECT idade, count(obito) as sobreviveu\n",
    "  FROM Paciente\n",
    "  WHERE obito=0\n",
    "  GROUP BY idade\n",
    "  ORDER BY sobreviveu DESC\n",
    "  \"\"\",\n",
    "  engine\n",
    ")\n",
    "\n",
    "df = pd.merge(\n",
    "  obito_df, \n",
    "  not_obito_df,\n",
    "  on='idade'\n",
    ")\n",
    "\n",
    "df['porcentagem_morte'] = np.round(df.morreu*100/(df.morreu+df.sobreviveu), decimals=2)\n",
    "df.head()"
   ]
  },
  {
   "cell_type": "code",
   "execution_count": 120,
   "metadata": {},
   "outputs": [
    {
     "data": {
      "text/plain": [
       "<AxesSubplot:xlabel='idade', ylabel='porcentagem_morte'>"
      ]
     },
     "execution_count": 120,
     "metadata": {},
     "output_type": "execute_result"
    },
    {
     "data": {
      "image/png": "[encoded data removed]",
      "text/plain": [
       "<Figure size 432x288 with 1 Axes>"
      ]
     },
     "metadata": {
      "needs_background": "light"
     },
     "output_type": "display_data"
    }
   ],
   "source": [
    "sns.scatterplot(x=df.idade, y=df.porcentagem_morte)"
   ]
  },
  {
   "cell_type": "markdown",
   "metadata": {},
   "source": [
    "### Pergunta 4"
   ]
  },
  {
   "cell_type": "code",
   "execution_count": 106,
   "metadata": {},
   "outputs": [
    {
     "data": {
      "text/html": [
       "<div>\n",
       "<style scoped>\n",
       "    .dataframe tbody tr th:only-of-type {\n",
       "        vertical-align: middle;\n",
       "    }\n",
       "\n",
       "    .dataframe tbody tr th {\n",
       "        vertical-align: top;\n",
       "    }\n",
       "\n",
       "    .dataframe thead th {\n",
       "        text-align: right;\n",
       "    }\n",
       "</style>\n",
       "<table border=\"1\" class=\"dataframe\">\n",
       "  <thead>\n",
       "    <tr style=\"text-align: right;\">\n",
       "      <th></th>\n",
       "      <th>municipio</th>\n",
       "      <th>quantidade</th>\n",
       "    </tr>\n",
       "  </thead>\n",
       "  <tbody>\n",
       "    <tr>\n",
       "      <th>0</th>\n",
       "      <td>São Paulo</td>\n",
       "      <td>43496</td>\n",
       "    </tr>\n",
       "    <tr>\n",
       "      <th>1</th>\n",
       "      <td>Campinas</td>\n",
       "      <td>9585</td>\n",
       "    </tr>\n",
       "    <tr>\n",
       "      <th>2</th>\n",
       "      <td>São José do Rio Preto</td>\n",
       "      <td>7616</td>\n",
       "    </tr>\n",
       "    <tr>\n",
       "      <th>3</th>\n",
       "      <td>São Bernardo do Campo</td>\n",
       "      <td>5117</td>\n",
       "    </tr>\n",
       "    <tr>\n",
       "      <th>4</th>\n",
       "      <td>Ribeirão Preto</td>\n",
       "      <td>4938</td>\n",
       "    </tr>\n",
       "  </tbody>\n",
       "</table>\n",
       "</div>"
      ],
      "text/plain": [
       "               municipio  quantidade\n",
       "0              São Paulo       43496\n",
       "1               Campinas        9585\n",
       "2  São José do Rio Preto        7616\n",
       "3  São Bernardo do Campo        5117\n",
       "4         Ribeirão Preto        4938"
      ]
     },
     "execution_count": 106,
     "metadata": {},
     "output_type": "execute_result"
    }
   ],
   "source": [
    "df = pd.read_sql(\n",
    "  \"\"\"\n",
    "  SELECT municipio, count(municipio) as quantidade\n",
    "  FROM Paciente\n",
    "  GROUP BY municipio\n",
    "  ORDER BY quantidade DESC\n",
    "  \"\"\",\n",
    "  engine\n",
    ")\n",
    "df.head()"
   ]
  },
  {
   "cell_type": "code",
   "execution_count": 110,
   "metadata": {},
   "outputs": [
    {
     "data": {
      "text/plain": [
       "<AxesSubplot:xlabel='municipio', ylabel='quantidade'>"
      ]
     },
     "execution_count": 110,
     "metadata": {},
     "output_type": "execute_result"
    },
    {
     "data": {
      "image/png": "[encoded data removed]",
      "text/plain": [
       "<Figure size 1080x432 with 1 Axes>"
      ]
     },
     "metadata": {
      "needs_background": "light"
     },
     "output_type": "display_data"
    }
   ],
   "source": [
    "show = df[df.index <= 5]\n",
    "\n",
    "fig_size = (15,6)\n",
    "fig, ax = plt.subplots(figsize=fig_size)\n",
    "sns.barplot(x=show.municipio, y=show.quantidade, ax=ax)"
   ]
  },
  {
   "cell_type": "markdown",
   "metadata": {},
   "source": [
    "### Pergunta 5"
   ]
  },
  {
   "cell_type": "code",
   "execution_count": 121,
   "metadata": {},
   "outputs": [
    {
     "data": {
      "text/html": [
       "<div>\n",
       "<style scoped>\n",
       "    .dataframe tbody tr th:only-of-type {\n",
       "        vertical-align: middle;\n",
       "    }\n",
       "\n",
       "    .dataframe tbody tr th {\n",
       "        vertical-align: top;\n",
       "    }\n",
       "\n",
       "    .dataframe thead th {\n",
       "        text-align: right;\n",
       "    }\n",
       "</style>\n",
       "<table border=\"1\" class=\"dataframe\">\n",
       "  <thead>\n",
       "    <tr style=\"text-align: right;\">\n",
       "      <th></th>\n",
       "      <th>asma</th>\n",
       "      <th>morreu</th>\n",
       "      <th>sobreviveu</th>\n",
       "      <th>porcentagem_morte</th>\n",
       "    </tr>\n",
       "  </thead>\n",
       "  <tbody>\n",
       "    <tr>\n",
       "      <th>0</th>\n",
       "      <td>NÃO</td>\n",
       "      <td>66291</td>\n",
       "      <td>112308</td>\n",
       "      <td>37.12</td>\n",
       "    </tr>\n",
       "    <tr>\n",
       "      <th>1</th>\n",
       "      <td>SIM</td>\n",
       "      <td>3404</td>\n",
       "      <td>9951</td>\n",
       "      <td>25.49</td>\n",
       "    </tr>\n",
       "  </tbody>\n",
       "</table>\n",
       "</div>"
      ],
      "text/plain": [
       "  asma  morreu  sobreviveu  porcentagem_morte\n",
       "0  NÃO   66291      112308              37.12\n",
       "1  SIM    3404        9951              25.49"
      ]
     },
     "execution_count": 121,
     "metadata": {},
     "output_type": "execute_result"
    }
   ],
   "source": [
    "obito_df = pd.read_sql(\n",
    "  \"\"\"\n",
    "  SELECT asma, count(obito) as morreu\n",
    "  FROM Paciente\n",
    "  WHERE obito=1\n",
    "  GROUP BY asma\n",
    "  ORDER BY morreu DESC\n",
    "  \"\"\",\n",
    "  engine\n",
    ")\n",
    "\n",
    "not_obito_df = pd.read_sql(\n",
    "  \"\"\"\n",
    "  SELECT asma, count(obito) as sobreviveu\n",
    "  FROM Paciente\n",
    "  WHERE obito=0\n",
    "  GROUP BY asma\n",
    "  ORDER BY sobreviveu DESC\n",
    "  \"\"\",\n",
    "  engine\n",
    ")\n",
    "\n",
    "df = pd.merge(\n",
    "  obito_df, \n",
    "  not_obito_df,\n",
    "  on='asma'\n",
    ")\n",
    "\n",
    "df['porcentagem_morte'] = np.round(df.morreu*100/(df.morreu+df.sobreviveu), decimals=2)\n",
    "df.head()"
   ]
  },
  {
   "cell_type": "code",
   "execution_count": 123,
   "metadata": {},
   "outputs": [
    {
     "data": {
      "text/plain": [
       "<AxesSubplot:xlabel='asma', ylabel='porcentagem_morte'>"
      ]
     },
     "execution_count": 123,
     "metadata": {},
     "output_type": "execute_result"
    },
    {
     "data": {
      "image/png": "[encoded data removed]",
      "text/plain": [
       "<Figure size 432x288 with 1 Axes>"
      ]
     },
     "metadata": {
      "needs_background": "light"
     },
     "output_type": "display_data"
    }
   ],
   "source": [
    "sns.barplot(x=df.asma, y=df.porcentagem_morte)"
   ]
  },
  {
   "cell_type": "markdown",
   "metadata": {},
   "source": [
    "## Questão 6"
   ]
  },
  {
   "cell_type": "code",
   "execution_count": 141,
   "metadata": {},
   "outputs": [],
   "source": [
    "df = pd.read_sql(\n",
    "  \"\"\"\n",
    "  SELECT idade, sexo, obito\n",
    "  FROM Paciente\n",
    "  \"\"\",\n",
    "  engine\n",
    ")\n",
    "\n",
    "X = df.idade\n",
    "y = df.obito"
   ]
  },
  {
   "cell_type": "code",
   "execution_count": 143,
   "metadata": {},
   "outputs": [
    {
     "name": "stdout",
     "output_type": "stream",
     "text": [
      "Acurácia:  0.6570029433981923\n",
      "Precisão:  0.5708020050125313\n"
     ]
    }
   ],
   "source": [
    "from sklearn.model_selection import train_test_split\n",
    "from sklearn.linear_model import LogisticRegression  \n",
    "from sklearn.metrics import accuracy_score, precision_score\n",
    "\n",
    "X_train, X_test, y_train, y_test = train_test_split(X.values.reshape(-1,1),y, test_size=0.2, random_state=40)\n",
    "\n",
    "classifier = LogisticRegression()\n",
    "classifier.fit(X_train,y_train)\n",
    "\n",
    "y_pred = classifier.predict(X_test)\n",
    "\n",
    "print('Acurácia: ', accuracy_score(y_test, y_pred))\n",
    "print('Precisão: ', precision_score(y_test, y_pred))"
   ]
  }
 ],
 "metadata": {
  "interpreter": {
   "hash": "31f2aee4e71d21fbe5cf8b01ff0e069b9275f58929596ceb00d14d90e3e16cd6"
  },
  "kernelspec": {
   "display_name": "Python 3.6.9 64-bit",
   "language": "python",
   "name": "python3"
  },
  "language_info": {
   "codemirror_mode": {
    "name": "ipython",
    "version": 3
   },
   "file_extension": ".py",
   "mimetype": "text/x-python",
   "name": "python",
   "nbconvert_exporter": "python",
   "pygments_lexer": "ipython3",
   "version": "3.9.7"
  },
  "orig_nbformat": 4
 },
 "nbformat": 4,
 "nbformat_minor": 2
}
